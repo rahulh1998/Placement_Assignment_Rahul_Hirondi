{
 "cells": [
  {
   "cell_type": "markdown",
   "id": "36e9a348",
   "metadata": {},
   "source": [
    "Q-1. Imagine you have a dataset where you have different Instagram features\n",
    "like u sername , Caption , Hashtag , Followers , Time_Since_posted , and likes , now your task is\n",
    "to predict the number of likes and Time Since posted and the rest of the features are\n",
    "your input features. Now you have to build a model which can predict the\n",
    "number of likes and Time Since posted.\n",
    "Dataset This is the Dataset You can use this dataset for this question.\n"
   ]
  },
  {
   "cell_type": "code",
   "execution_count": 1,
   "id": "b2b37345",
   "metadata": {},
   "outputs": [],
   "source": [
    "import pandas as pd\n",
    "import numpy as np\n",
    "from sklearn.model_selection import train_test_split\n",
    "from sklearn.tree import DecisionTreeRegressor\n",
    "from sklearn.ensemble import RandomForestRegressor\n",
    "from sklearn.linear_model import LinearRegression\n",
    "from sklearn.metrics import mean_squared_error,r2_score,mean_absolute_error\n",
    "from sklearn.preprocessing import StandardScaler,OneHotEncoder\n",
    "from xgboost import XGBRegressor"
   ]
  },
  {
   "cell_type": "code",
   "execution_count": 2,
   "id": "b0d823e9",
   "metadata": {},
   "outputs": [
    {
     "data": {
      "text/html": [
       "<div>\n",
       "<style scoped>\n",
       "    .dataframe tbody tr th:only-of-type {\n",
       "        vertical-align: middle;\n",
       "    }\n",
       "\n",
       "    .dataframe tbody tr th {\n",
       "        vertical-align: top;\n",
       "    }\n",
       "\n",
       "    .dataframe thead th {\n",
       "        text-align: right;\n",
       "    }\n",
       "</style>\n",
       "<table border=\"1\" class=\"dataframe\">\n",
       "  <thead>\n",
       "    <tr style=\"text-align: right;\">\n",
       "      <th></th>\n",
       "      <th>Unnamed: 0</th>\n",
       "      <th>S.No</th>\n",
       "      <th>USERNAME</th>\n",
       "      <th>Caption</th>\n",
       "      <th>Followers</th>\n",
       "      <th>Hashtags</th>\n",
       "      <th>Time since posted</th>\n",
       "      <th>Likes</th>\n",
       "    </tr>\n",
       "  </thead>\n",
       "  <tbody>\n",
       "    <tr>\n",
       "      <th>0</th>\n",
       "      <td>0</td>\n",
       "      <td>1</td>\n",
       "      <td>mikequindazzi</td>\n",
       "      <td>Who are #DataScientist and what do they do? &gt;&gt;...</td>\n",
       "      <td>1600</td>\n",
       "      <td>#MachineLearning #AI #DataAnalytics #DataScien...</td>\n",
       "      <td>11 hours</td>\n",
       "      <td>139</td>\n",
       "    </tr>\n",
       "    <tr>\n",
       "      <th>1</th>\n",
       "      <td>1</td>\n",
       "      <td>2</td>\n",
       "      <td>drgorillapaints</td>\n",
       "      <td>We all know where it’s going. We just have to ...</td>\n",
       "      <td>880</td>\n",
       "      <td>#deck .#mac #macintosh#sayhello #apple #steve...</td>\n",
       "      <td>2 hours</td>\n",
       "      <td>23</td>\n",
       "    </tr>\n",
       "    <tr>\n",
       "      <th>2</th>\n",
       "      <td>2</td>\n",
       "      <td>3</td>\n",
       "      <td>aitrading_official</td>\n",
       "      <td>Alexander Barinov: 4 years as CFO in multinati...</td>\n",
       "      <td>255</td>\n",
       "      <td>#whoiswho #aitrading #ai #aitradingteam#instat...</td>\n",
       "      <td>2 hours</td>\n",
       "      <td>25</td>\n",
       "    </tr>\n",
       "    <tr>\n",
       "      <th>3</th>\n",
       "      <td>3</td>\n",
       "      <td>4</td>\n",
       "      <td>opensourcedworkplace</td>\n",
       "      <td>sfad</td>\n",
       "      <td>340</td>\n",
       "      <td>#iot #cre#workplace #CDO #bigdata #technology#...</td>\n",
       "      <td>3 hours</td>\n",
       "      <td>49</td>\n",
       "    </tr>\n",
       "    <tr>\n",
       "      <th>4</th>\n",
       "      <td>4</td>\n",
       "      <td>5</td>\n",
       "      <td>crea.vision</td>\n",
       "      <td>Ever missed a call while your phone was chargi...</td>\n",
       "      <td>304</td>\n",
       "      <td>#instamachinelearning #instabigdata#instamarke...</td>\n",
       "      <td>3 hours</td>\n",
       "      <td>30</td>\n",
       "    </tr>\n",
       "  </tbody>\n",
       "</table>\n",
       "</div>"
      ],
      "text/plain": [
       "   Unnamed: 0  S.No              USERNAME  \\\n",
       "0           0     1         mikequindazzi   \n",
       "1           1     2       drgorillapaints   \n",
       "2           2     3    aitrading_official   \n",
       "3           3     4  opensourcedworkplace   \n",
       "4           4     5           crea.vision   \n",
       "\n",
       "                                             Caption  Followers  \\\n",
       "0  Who are #DataScientist and what do they do? >>...       1600   \n",
       "1  We all know where it’s going. We just have to ...        880   \n",
       "2  Alexander Barinov: 4 years as CFO in multinati...        255   \n",
       "3                                               sfad        340   \n",
       "4  Ever missed a call while your phone was chargi...        304   \n",
       "\n",
       "                                            Hashtags Time since posted  Likes  \n",
       "0  #MachineLearning #AI #DataAnalytics #DataScien...          11 hours    139  \n",
       "1   #deck .#mac #macintosh#sayhello #apple #steve...           2 hours     23  \n",
       "2  #whoiswho #aitrading #ai #aitradingteam#instat...           2 hours     25  \n",
       "3  #iot #cre#workplace #CDO #bigdata #technology#...           3 hours     49  \n",
       "4  #instamachinelearning #instabigdata#instamarke...           3 hours     30  "
      ]
     },
     "execution_count": 2,
     "metadata": {},
     "output_type": "execute_result"
    }
   ],
   "source": [
    "# Reading the dataset\n",
    "df = pd.read_csv('instagram_reach.csv')\n",
    "df.head()"
   ]
  },
  {
   "cell_type": "code",
   "execution_count": 3,
   "id": "5d631972",
   "metadata": {},
   "outputs": [
    {
     "name": "stdout",
     "output_type": "stream",
     "text": [
      "<class 'pandas.core.frame.DataFrame'>\n",
      "RangeIndex: 100 entries, 0 to 99\n",
      "Data columns (total 8 columns):\n",
      " #   Column             Non-Null Count  Dtype \n",
      "---  ------             --------------  ----- \n",
      " 0   Unnamed: 0         100 non-null    int64 \n",
      " 1   S.No               100 non-null    int64 \n",
      " 2   USERNAME           100 non-null    object\n",
      " 3   Caption            94 non-null     object\n",
      " 4   Followers          100 non-null    int64 \n",
      " 5   Hashtags           100 non-null    object\n",
      " 6   Time since posted  100 non-null    object\n",
      " 7   Likes              100 non-null    int64 \n",
      "dtypes: int64(4), object(4)\n",
      "memory usage: 6.4+ KB\n"
     ]
    }
   ],
   "source": [
    "df.info()"
   ]
  },
  {
   "cell_type": "code",
   "execution_count": 4,
   "id": "ce3271e1",
   "metadata": {},
   "outputs": [],
   "source": [
    "# creating a new feature to get the count of the hashtags\n",
    "df['Hashtags_Count'] = df['Hashtags'].apply(lambda x:len(x.split('#')))"
   ]
  },
  {
   "cell_type": "code",
   "execution_count": 5,
   "id": "edb2f361",
   "metadata": {},
   "outputs": [],
   "source": [
    "# Extacting numeric values from the ['Time since posted'] column\n",
    "df['Time since posted'] = df['Time since posted'].apply(lambda x: int(x.split()[0]))"
   ]
  },
  {
   "cell_type": "code",
   "execution_count": 6,
   "id": "3ab80abd",
   "metadata": {},
   "outputs": [],
   "source": [
    "# Creating X, y_likes, & y_time\n",
    "X = df[['Followers','Caption','Hashtags_Count']]\n",
    "y_likes = df['Likes']\n",
    "y_time = df['Time since posted']"
   ]
  },
  {
   "cell_type": "code",
   "execution_count": 7,
   "id": "d21914e5",
   "metadata": {},
   "outputs": [],
   "source": [
    "X_train, X_test, y_likes_train, y_likes_test, y_time_train, y_time_test = train_test_split(X, y_likes, y_time,\n",
    "                                                                                           test_size=0.3, random_state=101)"
   ]
  },
  {
   "cell_type": "code",
   "execution_count": 8,
   "id": "9734433b",
   "metadata": {},
   "outputs": [],
   "source": [
    "# Preprocess the text features using one-hot encoding\n",
    "encoder = OneHotEncoder(sparse=False, handle_unknown='ignore')\n",
    "X_train = encoder.fit_transform(X_train)\n",
    "X_test = encoder.transform(X_test)"
   ]
  },
  {
   "cell_type": "markdown",
   "id": "7bb39432",
   "metadata": {},
   "source": [
    "# Predicting likes"
   ]
  },
  {
   "cell_type": "code",
   "execution_count": 9,
   "id": "2c6cd9e8",
   "metadata": {},
   "outputs": [
    {
     "name": "stdout",
     "output_type": "stream",
     "text": [
      "Mean Absolute Error: 31.952037490434325\n"
     ]
    }
   ],
   "source": [
    "# Create regression model\n",
    "lr_likes = LinearRegression()\n",
    "\n",
    "# Train the model\n",
    "lr_likes.fit(X_train, y_likes_train)\n",
    "\n",
    "# Make predictions on the test set\n",
    "y_likes_pred_lr = lr_likes.predict(X_test)\n",
    "\n",
    "print(\"Mean Absolute Error:\", mean_absolute_error(y_likes_test, y_likes_pred_lr))"
   ]
  },
  {
   "cell_type": "code",
   "execution_count": 10,
   "id": "e0951070",
   "metadata": {},
   "outputs": [
    {
     "name": "stdout",
     "output_type": "stream",
     "text": [
      "Mean Absolute Error: 24.0\n"
     ]
    }
   ],
   "source": [
    "# Train and evaluate decision tree regression model\n",
    "dt_likes = DecisionTreeRegressor()\n",
    "\n",
    "# Train the model\n",
    "dt_likes.fit(X_train, y_likes_train)\n",
    "\n",
    "# Make predictions on the test set\n",
    "y_pred_dt_likes = dt_likes.predict(X_test)\n",
    "\n",
    "print(\"Mean Absolute Error:\", mean_absolute_error(y_likes_test, y_pred_dt_likes))"
   ]
  },
  {
   "cell_type": "code",
   "execution_count": 11,
   "id": "986a0473",
   "metadata": {},
   "outputs": [
    {
     "name": "stdout",
     "output_type": "stream",
     "text": [
      "Mean Absolute Error: 23.078666666666663\n"
     ]
    }
   ],
   "source": [
    "# Train and evaluate random forest regression model\n",
    "rf_likes = RandomForestRegressor()\n",
    "\n",
    "# Train the model\n",
    "rf_likes.fit(X_train, y_likes_train)\n",
    "\n",
    "# Make predictions on the test set\n",
    "y_pred_rf_likes = rf_likes.predict(X_test)\n",
    "\n",
    "print(\"Mean Absolute Error:\", mean_absolute_error(y_likes_test, y_pred_rf_likes))"
   ]
  },
  {
   "cell_type": "markdown",
   "id": "cbc6f10f",
   "metadata": {},
   "source": [
    "# Predicting Times Since Posted"
   ]
  },
  {
   "cell_type": "code",
   "execution_count": 12,
   "id": "ba948740",
   "metadata": {},
   "outputs": [
    {
     "name": "stdout",
     "output_type": "stream",
     "text": [
      "Mean Absolute Error: 31.952037490434325\n"
     ]
    }
   ],
   "source": [
    "# Create regression model\n",
    "lr_time = LinearRegression()\n",
    "\n",
    "# Train the model\n",
    "lr_time.fit(X_train, y_likes_train)\n",
    "\n",
    "# Make predictions on the test set\n",
    "y_time_pred_lr = lr_time.predict(X_test)\n",
    "\n",
    "print(\"Mean Absolute Error:\", mean_absolute_error(y_likes_test, y_time_pred_lr))"
   ]
  },
  {
   "cell_type": "code",
   "execution_count": 13,
   "id": "de520c59",
   "metadata": {},
   "outputs": [
    {
     "name": "stdout",
     "output_type": "stream",
     "text": [
      "Mean Absolute Error: 24.0\n"
     ]
    }
   ],
   "source": [
    "# Create decision tree model\n",
    "dt_time = DecisionTreeRegressor()\n",
    "\n",
    "# Train the model\n",
    "dt_time.fit(X_train, y_likes_train)\n",
    "\n",
    "# Make predictions on the test set\n",
    "y_time_pred_dt = dt_time.predict(X_test)\n",
    "\n",
    "print(\"Mean Absolute Error:\", mean_absolute_error(y_likes_test, y_time_pred_dt))"
   ]
  },
  {
   "cell_type": "code",
   "execution_count": 14,
   "id": "af3be8ac",
   "metadata": {},
   "outputs": [
    {
     "name": "stdout",
     "output_type": "stream",
     "text": [
      "Mean Absolute Error: 33.857666666666674\n"
     ]
    }
   ],
   "source": [
    "# Train and evaluate random forest regression model\n",
    "rf_time = RandomForestRegressor()\n",
    "\n",
    "# Train the model\n",
    "rf_time.fit(X_train, y_time_train)\n",
    "\n",
    "# Make predictions on the test set\n",
    "y_pred_rf_time = rf_time.predict(X_test)\n",
    "\n",
    "print(\"Mean Absolute Error:\", mean_absolute_error(y_likes_test, y_pred_rf_time))"
   ]
  },
  {
   "cell_type": "code",
   "execution_count": null,
   "id": "b8f3902f",
   "metadata": {},
   "outputs": [],
   "source": []
  }
 ],
 "metadata": {
  "kernelspec": {
   "display_name": "Python 3 (ipykernel)",
   "language": "python",
   "name": "python3"
  },
  "language_info": {
   "codemirror_mode": {
    "name": "ipython",
    "version": 3
   },
   "file_extension": ".py",
   "mimetype": "text/x-python",
   "name": "python",
   "nbconvert_exporter": "python",
   "pygments_lexer": "ipython3",
   "version": "3.9.13"
  }
 },
 "nbformat": 4,
 "nbformat_minor": 5
}
