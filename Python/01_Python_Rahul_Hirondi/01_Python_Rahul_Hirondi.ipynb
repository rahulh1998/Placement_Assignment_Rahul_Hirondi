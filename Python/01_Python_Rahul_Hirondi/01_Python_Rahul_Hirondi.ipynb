{
 "cells": [
  {
   "cell_type": "markdown",
   "id": "1b123b07-2b25-424f-9013-a290de911077",
   "metadata": {},
   "source": [
    "Question 1: -\n",
    "Write a program that takes a string as input, and counts the frequency of each word in the string, there might\n",
    "be repeated characters in the string. Your task is to find the highest frequency and returns the length of the\n",
    "highest-frequency word.\n",
    "\n",
    "Note - You have to write at least 2 additional test cases in which your program will run successfully and provide\n",
    "an explanation for the same.\n",
    "\n",
    "Example input - string = “write write write all the number from from from 1 to 100”\n",
    "\n",
    "Example output - 5\n",
    "\n",
    "Explanation - From the given string we can note that the most frequent words are “write” and “from” and\n",
    "the maximum value of both the values is “write” and its corresponding length is 5"
   ]
  },
  {
   "cell_type": "code",
   "execution_count": 15,
   "id": "c57d260e-fbe8-4dff-bc51-cd0a15ec755a",
   "metadata": {},
   "outputs": [],
   "source": [
    "def find_highest_freq_word_len(string):\n",
    "    words = string.split()\n",
    "\n",
    "    word_freq = {}\n",
    "    for i in words:\n",
    "        if i in word_freq:\n",
    "            word_freq[i] = word_freq[i] + 1\n",
    "        else:\n",
    "            word_freq[i] = 1\n",
    "\n",
    "    max_freq = max(word_freq.values())\n",
    "\n",
    "    word_len = 0\n",
    "    for i in word_freq:\n",
    "        if word_freq[i] == max_freq and len(i) > word_len:\n",
    "            word_len = len(i)\n",
    "\n",
    "    return word_len"
   ]
  },
  {
   "cell_type": "code",
   "execution_count": 16,
   "id": "b95337ce-ef9f-4753-b450-5c4f0ed75188",
   "metadata": {},
   "outputs": [
    {
     "name": "stdout",
     "output_type": "stream",
     "text": [
      "5\n"
     ]
    }
   ],
   "source": [
    "string = \"write write write all the number from from from 1 to 100\"\n",
    "output = find_highest_freq_word_len(string)\n",
    "print(output)\n"
   ]
  },
  {
   "cell_type": "markdown",
   "id": "c3bbe05a-783b-4673-8093-0f035845d1a4",
   "metadata": {},
   "source": [
    "Explanation - From the given string we can note that the most frequent words are “write” and “from” and\n",
    "the maximum value of both the values is “write” and its corresponding length is 5\n"
   ]
  },
  {
   "cell_type": "code",
   "execution_count": 17,
   "id": "075b2170-d7fb-4011-9624-1f8320cec9e2",
   "metadata": {},
   "outputs": [
    {
     "name": "stdout",
     "output_type": "stream",
     "text": [
      "6\n"
     ]
    }
   ],
   "source": [
    "string = \"Helloo Helloo Helloo world world world\"\n",
    "output = find_highest_freq_word_len(string)\n",
    "print(output)  "
   ]
  },
  {
   "cell_type": "markdown",
   "id": "ebce5326-4a80-49ad-860a-5278a0579306",
   "metadata": {},
   "source": [
    "Explanation:Both \"Helloo\" and \"world\" have the highest frequency of 3. Among these words, the longest word is \"Helloo\" with a length of 6 characters. Hence, the output is 6."
   ]
  },
  {
   "cell_type": "code",
   "execution_count": 18,
   "id": "a79267c9-f2b4-4012-91a0-ee41ca7ab1ef",
   "metadata": {},
   "outputs": [
    {
     "name": "stdout",
     "output_type": "stream",
     "text": [
      "3\n"
     ]
    }
   ],
   "source": [
    "input_string = \"car car dog dog cat cat cat\"\n",
    "output = find_highest_freq_word_len(input_string)\n",
    "print(output)  "
   ]
  },
  {
   "cell_type": "markdown",
   "id": "178feb65-61b6-4ff8-9cf7-97061973e344",
   "metadata": {},
   "source": [
    "Explanation:The word \"cat\" has the highest frequency of 3."
   ]
  }
 ],
 "metadata": {
  "kernelspec": {
   "display_name": "Python 3 (ipykernel)",
   "language": "python",
   "name": "python3"
  },
  "language_info": {
   "codemirror_mode": {
    "name": "ipython",
    "version": 3
   },
   "file_extension": ".py",
   "mimetype": "text/x-python",
   "name": "python",
   "nbconvert_exporter": "python",
   "pygments_lexer": "ipython3",
   "version": "3.10.8"
  }
 },
 "nbformat": 4,
 "nbformat_minor": 5
}
