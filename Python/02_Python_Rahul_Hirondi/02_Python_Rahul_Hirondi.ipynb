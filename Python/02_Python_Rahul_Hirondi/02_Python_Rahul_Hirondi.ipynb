{
 "cells": [
  {
   "cell_type": "markdown",
   "id": "a69add9d-9c10-458f-88cb-4d76bb276fad",
   "metadata": {},
   "source": [
    "Question 2: -\n",
    "\n",
    "Consider a string to be valid if all characters of the string appear the same number of times. It is also valid if\n",
    "he can remove just one character at the index in the string, and the remaining characters will occur the same\n",
    "number of times. Given a string, determine if it is valid. If so, return YES , otherwise return NO .\n",
    "\n",
    "Note - You have to write at least 2 additional test cases in which your program will run successfully and provide\n",
    "an explanation for the same.\n",
    "\n",
    "Example input 1 - s = “abc”. This is a valid string because frequencies are { “a”: 1, “b”: 1, “c”: 1 }\n",
    "\n",
    "Example output 1- YES\n",
    "\n",
    "Example input 2 - s “abcc”. This string is not valid as we can remove only 1 occurrence of “c”. That leaves\n",
    "character frequencies of { “a”: 1, “b”: 1 , “c”: 2 }\n",
    "\n",
    "Example output 2 - NO"
   ]
  },
  {
   "cell_type": "code",
   "execution_count": 8,
   "id": "5e50da1d-7f8c-4dd1-af85-9ecc83fd12b7",
   "metadata": {},
   "outputs": [],
   "source": [
    "def check_valid_string(str):\n",
    "    freq = {}\n",
    "    for i in str:\n",
    "        if i in freq:\n",
    "            freq[i] = freq[i] + 1\n",
    "        else:\n",
    "            freq[i] = 1\n",
    "    \n",
    "    val = list(freq.values())\n",
    "    val.sort()\n",
    "    unique_val = set(val)\n",
    "    \n",
    "    if len(unique_val) == 1:\n",
    "        return \"YES\"\n",
    "    elif len(unique_val) == 2:\n",
    "        if val.count(val[0]) == 1 and val[0] == 1:\n",
    "            return \"YES\"\n",
    "        elif val.count(val[-1]) == 1 and val[-2] == val[-1] - 1:\n",
    "            return \"NO\"  \n",
    "    \n",
    "    return \"NO\"\n",
    "\n",
    "    return \"NO\"\n"
   ]
  },
  {
   "cell_type": "code",
   "execution_count": 11,
   "id": "d52a81c0-5140-4b8b-84d0-e5ba8102e871",
   "metadata": {},
   "outputs": [
    {
     "name": "stdout",
     "output_type": "stream",
     "text": [
      "YES\n"
     ]
    }
   ],
   "source": [
    "str = \"abcde\"\n",
    "output=check_valid_string(str)\n",
    "print(output)"
   ]
  },
  {
   "cell_type": "markdown",
   "id": "64ecb9d5-cec9-47e5-90cb-088edd75f640",
   "metadata": {},
   "source": [
    "Since each character has the same frequency 1 , the function returns \"YES\"."
   ]
  },
  {
   "cell_type": "code",
   "execution_count": 12,
   "id": "94c9d2cf-7a3f-4807-8c39-575f60f3a300",
   "metadata": {},
   "outputs": [
    {
     "name": "stdout",
     "output_type": "stream",
     "text": [
      "NO\n"
     ]
    }
   ],
   "source": [
    "str = \"aaabb\"\n",
    "output=check_valid_string(str)\n",
    "print(output)"
   ]
  },
  {
   "cell_type": "markdown",
   "id": "a09305ff-a610-4fc1-95b1-a86b6f5d546b",
   "metadata": {},
   "source": [
    " The character 'a' appears three times, while 'b' appears twice.Therefore, the function returns \"NO\"."
   ]
  },
  {
   "cell_type": "code",
   "execution_count": null,
   "id": "d625f2a6-df36-4810-a6fd-f62783a9c8eb",
   "metadata": {},
   "outputs": [],
   "source": []
  },
  {
   "cell_type": "code",
   "execution_count": null,
   "id": "bf5de5e7-0222-4731-970b-837474ce98ea",
   "metadata": {},
   "outputs": [],
   "source": []
  },
  {
   "cell_type": "code",
   "execution_count": null,
   "id": "4f44114b-c191-4fc4-9559-0694b9d1c4a0",
   "metadata": {},
   "outputs": [],
   "source": []
  },
  {
   "cell_type": "code",
   "execution_count": null,
   "id": "8a0f9696-5599-4acd-b377-8fb13e92e57f",
   "metadata": {},
   "outputs": [],
   "source": []
  }
 ],
 "metadata": {
  "kernelspec": {
   "display_name": "Python 3 (ipykernel)",
   "language": "python",
   "name": "python3"
  },
  "language_info": {
   "codemirror_mode": {
    "name": "ipython",
    "version": 3
   },
   "file_extension": ".py",
   "mimetype": "text/x-python",
   "name": "python",
   "nbconvert_exporter": "python",
   "pygments_lexer": "ipython3",
   "version": "3.10.8"
  }
 },
 "nbformat": 4,
 "nbformat_minor": 5
}
