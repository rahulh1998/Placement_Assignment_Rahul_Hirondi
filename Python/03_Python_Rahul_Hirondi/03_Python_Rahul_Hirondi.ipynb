{
 "cells": [
  {
   "cell_type": "markdown",
   "id": "5e6adfae-413d-4536-b833-6db55408aada",
   "metadata": {},
   "source": [
    "Question 3: -\n",
    "Write a program, which would download the data from the provided link, and then read the data and convert\n",
    "that into properly structured data and return it in Excel format.\n",
    "\n",
    "Note - Write comments wherever necessary explaining the code written.\n",
    "\n",
    "Link - https://raw.githubusercontent.com/Biuni/PokemonGO-Pokedex/master/pokedex.json\n",
    "\n",
    "Data Attributes - id: Identification Number - int num: Number of the\n",
    "● Pokémon in the official Pokédex - int name: Pokémon name -\n",
    "\n",
    "● string img: URL to an image of this Pokémon - string type:\n",
    "\n",
    "● Pokémon type -string height: Pokémon height - float\n",
    "\n",
    "● weight: Pokémon weight - float candy: type of candy used to evolve Pokémon or\n",
    "given\n",
    "\n",
    "● when transferred - string candy_count: the amount of candies required to evolve - int\n",
    "\n",
    "\n",
    "● egg: Number of kilometers to travel to hatch the egg - float spawn_chance:\n",
    "\n",
    "● Percentage of spawn chance (NEW) - float avg_spawns: Number of this\n",
    "pokemon on 10.000 spawns (NEW) - int\n",
    "\n",
    "● spawn_time: Spawns most active at the time on this field. Spawn times are the same for all\n",
    "time zones and are expressed in local time. (NEW) - “minutes: seconds” multipliers:\n",
    "Multiplier of Combat Power (CP) for calculating the CP after evolution See below - list of int\n",
    "weakness: Types of\n",
    "\n",
    "● Pokémon this Pokémon is weak to - list of strings next_evolution: Number and Name of\n",
    "successive evolutions of Pokémon - list of dict prev_evolution: Number and Name of previous\n",
    "evolutions of Pokémon - - list of dict\n"
   ]
  },
  {
   "cell_type": "code",
   "execution_count": 2,
   "id": "76bf7058-97b3-4d39-a665-170c2c4dac97",
   "metadata": {},
   "outputs": [
    {
     "name": "stdout",
     "output_type": "stream",
     "text": [
      "Requirement already satisfied: requests in /opt/conda/lib/python3.10/site-packages (2.28.1)\n",
      "Requirement already satisfied: certifi>=2017.4.17 in /opt/conda/lib/python3.10/site-packages (from requests) (2022.12.7)\n",
      "Requirement already satisfied: urllib3<1.27,>=1.21.1 in /opt/conda/lib/python3.10/site-packages (from requests) (1.26.13)\n",
      "Requirement already satisfied: idna<4,>=2.5 in /opt/conda/lib/python3.10/site-packages (from requests) (3.4)\n",
      "Requirement already satisfied: charset-normalizer<3,>=2 in /opt/conda/lib/python3.10/site-packages (from requests) (2.1.1)\n",
      "Note: you may need to restart the kernel to use updated packages.\n"
     ]
    }
   ],
   "source": [
    "pip install requests"
   ]
  },
  {
   "cell_type": "code",
   "execution_count": 8,
   "id": "0c9804fb-7198-48bb-afbb-80915abfcbeb",
   "metadata": {},
   "outputs": [
    {
     "name": "stdout",
     "output_type": "stream",
     "text": [
      "Data has been exported to 'PYTHON_03.xlsx'.\n"
     ]
    }
   ],
   "source": [
    "import pandas as pd\n",
    "import requests\n",
    "\n",
    "\n",
    "data_url = 'https://raw.githubusercontent.com/Biuni/PokemonGO-Pokedex/master/pokedex.json'\n",
    "response = requests.get(data_url)\n",
    "data = response.json()\n",
    "\n",
    "# Create empty lists \n",
    "ids = []\n",
    "nums = []\n",
    "names = []\n",
    "imgs = []\n",
    "types = []\n",
    "heights = []\n",
    "weights = []\n",
    "candies = []\n",
    "candy_counts = []\n",
    "eggs = []\n",
    "spawn_chances = []\n",
    "avg_spawns = []\n",
    "spawn_times = []\n",
    "multipliers = []\n",
    "weaknesses = []\n",
    "next_evolutions = []\n",
    "prev_evolutions = []\n",
    "\n",
    "# Extract \n",
    "for entry in data['pokemon']:\n",
    "    ids.append(entry['id'])\n",
    "    nums.append(entry['num'])\n",
    "    names.append(entry['name'])\n",
    "    imgs.append(entry['img'])\n",
    "    types.append(', '.join(entry['type']))\n",
    "    heights.append(entry['height'])\n",
    "    weights.append(entry['weight'])\n",
    "    candies.append(entry.get('candy', ''))\n",
    "    candy_counts.append(entry.get('candy_count', ''))\n",
    "    eggs.append(entry.get('egg', ''))\n",
    "    spawn_chances.append(entry.get('spawn_chance', ''))\n",
    "    avg_spawns.append(entry.get('avg_spawns', ''))\n",
    "    spawn_times.append(entry.get('spawn_time', ''))\n",
    "    multipliers.append(entry.get('multipliers', ''))\n",
    "    weaknesses.append(', '.join(entry.get('weaknesses', [])))\n",
    "\n",
    "    next_evolutions.append(', '.join([evolution['num'] + '-' + evolution['name'] for evolution in entry.get('next_evolution', [])]))\n",
    "    prev_evolutions.append(', '.join([evolution['num'] + '-' + evolution['name'] for evolution in entry.get('prev_evolution', [])]))\n",
    "\n",
    "# Create a DataFrame \n",
    "df = pd.DataFrame({\n",
    "    'ID': ids,\n",
    "    'Number': nums,\n",
    "    'Name': names,\n",
    "    'Image': imgs,\n",
    "    'Type': types,\n",
    "    'Height': heights,\n",
    "    'Weight': weights,\n",
    "    'Candy': candies,\n",
    "    'Candy Count': candy_counts,\n",
    "    'Egg': eggs,\n",
    "    'Spawn Chance': spawn_chances,\n",
    "    'Average Spawns': avg_spawns,\n",
    "    'Spawn Time': spawn_times,\n",
    "    'Multipliers': multipliers,\n",
    "    'Weaknesses': weaknesses,\n",
    "    'Next Evolution': next_evolutions,\n",
    "    'Previous Evolution': prev_evolutions\n",
    "})\n",
    "\n",
    "# Export to Excel file\n",
    "excel_file = 'PYTHON_03.xlsx'\n",
    "df.to_excel(excel_file, index=False)\n",
    "print(f\"Data has been exported to '{excel_file}'.\")"
   ]
  },
  {
   "cell_type": "code",
   "execution_count": null,
   "id": "9f825c1f-cd84-4c82-a708-61cb87de415c",
   "metadata": {},
   "outputs": [],
   "source": []
  },
  {
   "cell_type": "code",
   "execution_count": null,
   "id": "7057c0f8-817e-4f71-8bab-af98f66b428d",
   "metadata": {},
   "outputs": [],
   "source": []
  }
 ],
 "metadata": {
  "kernelspec": {
   "display_name": "Python 3 (ipykernel)",
   "language": "python",
   "name": "python3"
  },
  "language_info": {
   "codemirror_mode": {
    "name": "ipython",
    "version": 3
   },
   "file_extension": ".py",
   "mimetype": "text/x-python",
   "name": "python",
   "nbconvert_exporter": "python",
   "pygments_lexer": "ipython3",
   "version": "3.10.8"
  }
 },
 "nbformat": 4,
 "nbformat_minor": 5
}
