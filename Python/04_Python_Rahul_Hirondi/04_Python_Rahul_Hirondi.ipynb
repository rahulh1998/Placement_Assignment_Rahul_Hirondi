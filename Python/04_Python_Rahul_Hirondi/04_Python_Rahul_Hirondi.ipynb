{
 "cells": [
  {
   "cell_type": "markdown",
   "id": "652ea6e3-a737-4b40-90c5-dbde67adfc16",
   "metadata": {},
   "source": [
    "Question 4 -\n",
    "Write a program to download the data from the link given below and then read the data and convert the into\n",
    "the proper structure and return it as a CSV file.\n",
    "\n",
    "Link - https://data.nasa.gov/resource/y77d-th95.json\n",
    "\n",
    "Note - Write code comments wherever needed for code understanding.\n",
    "\n",
    "\n",
    "Excepted Output Data Attributes\n",
    "\n",
    "● Name of Earth Meteorite - string id - ID of Earth\n",
    "\n",
    "● Meteorite - int nametype - string recclass - string\n",
    "\n",
    "● mass - Mass of Earth Meteorite - float year - Year at which Earth\n",
    "\n",
    "● Meteorite was hit - datetime format reclat - float recclong - float\n",
    "\n",
    "● point coordinates - list of int\n"
   ]
  },
  {
   "cell_type": "code",
   "execution_count": 27,
   "id": "05dcda42-b182-488b-bab4-c1444adcca98",
   "metadata": {},
   "outputs": [
    {
     "name": "stdout",
     "output_type": "stream",
     "text": [
      "Data saved successfully as PYTHON_04.csv.\n"
     ]
    }
   ],
   "source": [
    "import requests\n",
    "import csv\n",
    "\n",
    "def download(url):\n",
    "    response = requests.get(url)\n",
    "    data = response.json()\n",
    "    return data\n",
    "\n",
    "def process(data):\n",
    "    processed_data = []\n",
    "    for i in data:\n",
    "        dict = {}\n",
    "        dict['name_of_earth_meteorite'] = i.get('name', '')\n",
    "        dict['id'] = i.get('id', '')\n",
    "        dict['nametype'] = i.get('nametype', '')\n",
    "        dict['recclass'] = i.get('recclass', '')\n",
    "        dict['mass'] = float(i.get('mass', 0))\n",
    "        dict['year'] = i.get('year', '')\n",
    "        dict['reclat'] = float(i.get('reclat', 0))\n",
    "        dict['reclong'] = float(i.get('reclong', 0))\n",
    "        dict['point_coordinates'] = [float(i.get('reclat', 0)), float(i.get('reclong', 0))]\n",
    "        processed_data.append(dict)\n",
    "    return processed_data\n",
    "\n",
    "def save_csv(data, filename):\n",
    "    fieldnames = data[0].keys()\n",
    "    with open(filename, 'w', newline='') as csvfile:\n",
    "        save = csv.DictWriter(csvfile, fieldnames=fieldnames)\n",
    "        save.writeheader()\n",
    "        save.writerows(data)\n",
    "\n",
    "url = \"https://data.nasa.gov/resource/y77d-th95.json\"\n",
    "filename = \"PYTHON_04.csv\"\n",
    "\n",
    "data = download(url)\n",
    "processed_data = process(data)\n",
    "save_csv(processed_data, filename)\n",
    "\n",
    "print(\"Data saved successfully as {}.\".format(filename))\n",
    "\n"
   ]
  },
  {
   "cell_type": "code",
   "execution_count": 28,
   "id": "891f18f7-efd5-4490-80e9-8fe0512f7bae",
   "metadata": {},
   "outputs": [],
   "source": [
    "import pandas as pd"
   ]
  },
  {
   "cell_type": "code",
   "execution_count": 23,
   "id": "e314f782-b0c2-4bd3-8d52-a529e94b82d6",
   "metadata": {},
   "outputs": [],
   "source": [
    "df = pd.read_csv(\"PYTHON_04.csv\")"
   ]
  },
  {
   "cell_type": "code",
   "execution_count": 29,
   "id": "2d6cf288-4ddf-441b-b7c7-02e43bd63c4b",
   "metadata": {},
   "outputs": [
    {
     "data": {
      "text/html": [
       "<div>\n",
       "<style scoped>\n",
       "    .dataframe tbody tr th:only-of-type {\n",
       "        vertical-align: middle;\n",
       "    }\n",
       "\n",
       "    .dataframe tbody tr th {\n",
       "        vertical-align: top;\n",
       "    }\n",
       "\n",
       "    .dataframe thead th {\n",
       "        text-align: right;\n",
       "    }\n",
       "</style>\n",
       "<table border=\"1\" class=\"dataframe\">\n",
       "  <thead>\n",
       "    <tr style=\"text-align: right;\">\n",
       "      <th></th>\n",
       "      <th>name_of_earth_meteorite</th>\n",
       "      <th>id</th>\n",
       "      <th>nametype</th>\n",
       "      <th>recclass</th>\n",
       "      <th>mass</th>\n",
       "      <th>year</th>\n",
       "      <th>reclat</th>\n",
       "      <th>reclong</th>\n",
       "      <th>point_coordinates</th>\n",
       "    </tr>\n",
       "  </thead>\n",
       "  <tbody>\n",
       "    <tr>\n",
       "      <th>0</th>\n",
       "      <td>Aachen</td>\n",
       "      <td>1</td>\n",
       "      <td>Valid</td>\n",
       "      <td>L5</td>\n",
       "      <td>21.0</td>\n",
       "      <td>1880</td>\n",
       "      <td>50.77500</td>\n",
       "      <td>6.08333</td>\n",
       "      <td>[50.775, 6.08333]</td>\n",
       "    </tr>\n",
       "    <tr>\n",
       "      <th>1</th>\n",
       "      <td>Aarhus</td>\n",
       "      <td>2</td>\n",
       "      <td>Valid</td>\n",
       "      <td>H6</td>\n",
       "      <td>720.0</td>\n",
       "      <td>1951</td>\n",
       "      <td>56.18333</td>\n",
       "      <td>10.23333</td>\n",
       "      <td>[56.18333, 10.23333]</td>\n",
       "    </tr>\n",
       "    <tr>\n",
       "      <th>2</th>\n",
       "      <td>Abee</td>\n",
       "      <td>6</td>\n",
       "      <td>Valid</td>\n",
       "      <td>EH4</td>\n",
       "      <td>107000.0</td>\n",
       "      <td>1952</td>\n",
       "      <td>54.21667</td>\n",
       "      <td>-113.00000</td>\n",
       "      <td>[54.21667, -113.0]</td>\n",
       "    </tr>\n",
       "    <tr>\n",
       "      <th>3</th>\n",
       "      <td>Acapulco</td>\n",
       "      <td>10</td>\n",
       "      <td>Valid</td>\n",
       "      <td>Acapulcoite</td>\n",
       "      <td>1914.0</td>\n",
       "      <td>1976</td>\n",
       "      <td>16.88333</td>\n",
       "      <td>-99.90000</td>\n",
       "      <td>[16.88333, -99.9]</td>\n",
       "    </tr>\n",
       "    <tr>\n",
       "      <th>4</th>\n",
       "      <td>Achiras</td>\n",
       "      <td>370</td>\n",
       "      <td>Valid</td>\n",
       "      <td>L6</td>\n",
       "      <td>780.0</td>\n",
       "      <td>1902</td>\n",
       "      <td>-33.16667</td>\n",
       "      <td>-64.95000</td>\n",
       "      <td>[-33.16667, -64.95]</td>\n",
       "    </tr>\n",
       "  </tbody>\n",
       "</table>\n",
       "</div>"
      ],
      "text/plain": [
       "  name_of_earth_meteorite   id nametype     recclass      mass  year  \\\n",
       "0                  Aachen    1    Valid           L5      21.0  1880   \n",
       "1                  Aarhus    2    Valid           H6     720.0  1951   \n",
       "2                    Abee    6    Valid          EH4  107000.0  1952   \n",
       "3                Acapulco   10    Valid  Acapulcoite    1914.0  1976   \n",
       "4                 Achiras  370    Valid           L6     780.0  1902   \n",
       "\n",
       "     reclat    reclong     point_coordinates  \n",
       "0  50.77500    6.08333     [50.775, 6.08333]  \n",
       "1  56.18333   10.23333  [56.18333, 10.23333]  \n",
       "2  54.21667 -113.00000    [54.21667, -113.0]  \n",
       "3  16.88333  -99.90000     [16.88333, -99.9]  \n",
       "4 -33.16667  -64.95000   [-33.16667, -64.95]  "
      ]
     },
     "execution_count": 29,
     "metadata": {},
     "output_type": "execute_result"
    }
   ],
   "source": [
    "df.head()"
   ]
  },
  {
   "cell_type": "code",
   "execution_count": 30,
   "id": "80658278-1ebf-49a6-9f35-eb53bef553af",
   "metadata": {},
   "outputs": [
    {
     "name": "stdout",
     "output_type": "stream",
     "text": [
      "<class 'pandas.core.frame.DataFrame'>\n",
      "RangeIndex: 1000 entries, 0 to 999\n",
      "Data columns (total 9 columns):\n",
      " #   Column                   Non-Null Count  Dtype  \n",
      "---  ------                   --------------  -----  \n",
      " 0   name_of_earth_meteorite  1000 non-null   object \n",
      " 1   id                       1000 non-null   int64  \n",
      " 2   nametype                 1000 non-null   object \n",
      " 3   recclass                 1000 non-null   object \n",
      " 4   mass                     1000 non-null   float64\n",
      " 5   year                     1000 non-null   int64  \n",
      " 6   reclat                   1000 non-null   float64\n",
      " 7   reclong                  1000 non-null   float64\n",
      " 8   point_coordinates        1000 non-null   object \n",
      "dtypes: float64(3), int64(2), object(4)\n",
      "memory usage: 70.4+ KB\n"
     ]
    }
   ],
   "source": [
    "df.info()"
   ]
  },
  {
   "cell_type": "code",
   "execution_count": null,
   "id": "998b38ee-342e-4259-83b2-7d6e9d366ac8",
   "metadata": {},
   "outputs": [],
   "source": []
  }
 ],
 "metadata": {
  "kernelspec": {
   "display_name": "Python 3 (ipykernel)",
   "language": "python",
   "name": "python3"
  },
  "language_info": {
   "codemirror_mode": {
    "name": "ipython",
    "version": 3
   },
   "file_extension": ".py",
   "mimetype": "text/x-python",
   "name": "python",
   "nbconvert_exporter": "python",
   "pygments_lexer": "ipython3",
   "version": "3.10.8"
  }
 },
 "nbformat": 4,
 "nbformat_minor": 5
}
