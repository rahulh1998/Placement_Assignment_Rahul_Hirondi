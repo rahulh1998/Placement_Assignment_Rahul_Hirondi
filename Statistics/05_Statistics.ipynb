{
 "cells": [
  {
   "cell_type": "markdown",
   "id": "489922f6-0024-4a32-8053-67548983fcc0",
   "metadata": {},
   "source": [
    "Q-5. A certain city has two taxi companies: Company A has 80% of the taxis and\n",
    "Company B has 20% of the taxis. Company A's taxis have a 95% success rate for picking\n",
    "up passengers on time, while Company B's taxis have a 90% success rate. If a randomly\n",
    "selected taxi is late, what is the probability that it belongs to Company A?\n"
   ]
  },
  {
   "cell_type": "markdown",
   "id": "91e2ad77-66ce-4077-a204-56444fdb726b",
   "metadata": {},
   "source": [
    "### Answer\n",
    "\n",
    "To solve this problem, we can use Bayes' theorem.\n",
    "\n",
    "A: Taxi belongs to Company A\n",
    "\n",
    "B: Taxi belongs to Company B\n",
    "\n",
    "L: Taxi is late\n",
    "\n",
    "Bayes' theorem: P(A|L) = (P(L|A) * P(A)) / P(L)\n",
    "\n",
    "P(L|A) = 1 - 0.95 = 0.05 (as 95% success rate means a 5% failure rate)\n",
    "\n",
    "P(A) = 0.8 (80% of taxis belong to Company A)\n",
    "\n",
    "P(L) = P(L|A) * P(A) + P(L|B) * P(B)\n",
    "\n",
    "= 0.05 * 0.8 + (1 - 0.9) * 0.2\n",
    "\n",
    "= 0.04 + 0.1\n",
    "\n",
    "= 0.14\n",
    "\n",
    "Now we can calculate P(A|L):\n",
    "\n",
    "P(A|L) = (P(L|A) * P(A)) / P(L)\n",
    "\n",
    "= (0.05 * 0.8) / 0.14\n",
    "= 0.2857\n",
    "\n",
    "#### Therefore, the probability that a randomly selected taxi is from Company A given that it is late is approximately 28.57%.\n"
   ]
  },
  {
   "cell_type": "code",
   "execution_count": null,
   "id": "f5e5e662-cedc-4a58-9fad-9e4c3faa549b",
   "metadata": {},
   "outputs": [],
   "source": []
  }
 ],
 "metadata": {
  "kernelspec": {
   "display_name": "Python 3 (ipykernel)",
   "language": "python",
   "name": "python3"
  },
  "language_info": {
   "codemirror_mode": {
    "name": "ipython",
    "version": 3
   },
   "file_extension": ".py",
   "mimetype": "text/x-python",
   "name": "python",
   "nbconvert_exporter": "python",
   "pygments_lexer": "ipython3",
   "version": "3.10.8"
  }
 },
 "nbformat": 4,
 "nbformat_minor": 5
}
