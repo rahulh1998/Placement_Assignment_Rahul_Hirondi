{
 "cells": [
  {
   "cell_type": "markdown",
   "id": "855c2b11-02b3-40a7-b6eb-7df94ecd180f",
   "metadata": {},
   "source": [
    "Q-4. A group of 20 friends decide to play a game in which they each write a number\n",
    "between 1 and 20 on a slip of paper and put it into a hat. They then draw one slip of paper\n",
    "at random. What is the probability that the number on the slip of paper is a perfect square\n",
    "(i.e., 1, 4, 9, or 16)?"
   ]
  },
  {
   "cell_type": "markdown",
   "id": "de1f974e-9ef2-43d3-a133-692269f134b4",
   "metadata": {},
   "source": [
    "### Answer\n",
    "\n",
    "#### Probability = Number of favorable outcomes / Total number of possible outcomes\n",
    "\n",
    "Number of favorable outcomes =  4 (i.e., 1, 4, 9, or 16)\n",
    "\n",
    "Total number of possible outcomes = 20\n",
    "\n",
    "Probability = 4 / 20\n",
    "\n",
    "Probability = 1 / 5\n",
    "\n",
    "#### Therefore, the probability of drawing a perfect square number from the hat is 20%"
   ]
  },
  {
   "cell_type": "code",
   "execution_count": null,
   "id": "492578be-2463-454d-be14-46ecb6925871",
   "metadata": {},
   "outputs": [],
   "source": []
  }
 ],
 "metadata": {
  "kernelspec": {
   "display_name": "Python 3 (ipykernel)",
   "language": "python",
   "name": "python3"
  },
  "language_info": {
   "codemirror_mode": {
    "name": "ipython",
    "version": 3
   },
   "file_extension": ".py",
   "mimetype": "text/x-python",
   "name": "python",
   "nbconvert_exporter": "python",
   "pygments_lexer": "ipython3",
   "version": "3.10.8"
  }
 },
 "nbformat": 4,
 "nbformat_minor": 5
}
