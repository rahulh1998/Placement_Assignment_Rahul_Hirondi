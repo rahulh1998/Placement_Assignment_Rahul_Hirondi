{
 "cells": [
  {
   "cell_type": "markdown",
   "id": "d4907bd7-a685-4a42-ad1c-33096843dbbf",
   "metadata": {},
   "source": [
    "Q-2. Consider a dataset containing the heights (in centimeters) of 1000 individuals. The\n",
    "mean height is 170 cm with a standard deviation of 10 cm. The dataset is approximately\n",
    "normally distributed, and its skewness is approximately zero. Based on this information,\n",
    "answer the following questions:\n",
    "\n",
    "a. What percentage of individuals in the dataset have heights between 160 cm\n",
    "and 180 cm?\n",
    "\n",
    "b. If we randomly select 100 individuals from the dataset, what is the probability\n",
    "that their average height is greater than 175 cm?\n",
    "\n",
    "c. Assuming the dataset follows a normal distribution, what is the z-score\n",
    "corresponding to a height of 185 cm?\n",
    "\n",
    "d. We know that 5% of the dataset has heights below a certain value. What is\n",
    "the approximate height corresponding to this threshold?\n",
    "\n",
    "e. Calculate the coefficient of variation (CV) for the dataset.\n",
    "\n",
    "f. Calculate the skewness of the dataset and interpret the result."
   ]
  },
  {
   "cell_type": "markdown",
   "id": "34d2e3e7-35bf-4d0e-8906-a2a7fec86ab9",
   "metadata": {},
   "source": [
    "### a. What percentage of individuals in the dataset have heights between 160 cmand 180 cm?"
   ]
  },
  {
   "cell_type": "markdown",
   "id": "8dc2e491-e4a8-4513-ba5f-2efb9d0cd754",
   "metadata": {},
   "source": [
    "### Answer\n",
    "\n",
    "The z-score formula is given by: z = (x - μ) / σ\n",
    "\n",
    "For a height of 160 cm:\n",
    "z1 = (160 - 170) / 10 = -1\n",
    "\n",
    "For a height of 180 cm:\n",
    "z2 = (180 - 170) / 10 = 1\n",
    "\n",
    "The area to the left of z = -1 is 0.1587, and the area to the left of z = 1 is 0.8413.\n",
    "\n",
    "Percentage = (0.8413 - 0.1587) * 100% = 68.26%\n",
    "\n",
    "#### Therefore, approximately 68.26% of individuals in the dataset have heights between 160 cm and 180 cm."
   ]
  },
  {
   "cell_type": "markdown",
   "id": "6ff34d37-7140-4caa-89f1-287ea03173cf",
   "metadata": {},
   "source": [
    "### b. If we randomly select 100 individuals from the dataset, what is the probability that their average height is greater than 175 cm?"
   ]
  },
  {
   "cell_type": "markdown",
   "id": "1e2b3bb5-e69b-462e-890b-8f99558bfeba",
   "metadata": {},
   "source": [
    "### Answer\n",
    "\n",
    "Standard error = population standard deviation / sqrt(sample size)\n",
    "\n",
    "Standard error = 10 / sqrt(100) = 10 / 10 = 1\n",
    "\n",
    "To find the probability that the average height is greater than 175 cm, we can calculate the z-score for 175 cm:\n",
    "\n",
    "z = (x - μ) / σ = (175 - 170) / 1 = 5\n",
    "\n",
    "Using a standard normal distribution table or a calculator, we can find the area to the right of z = 5, which represents the probability that the average height is greater than 175 cm.\n",
    "\n",
    "The area to the right of z = 5 is very close to 0.\n",
    "\n",
    "#### Therefore, the probability that the average height of a randomly selected group of 100 individuals is greater than 175 cm is approximately 0."
   ]
  },
  {
   "cell_type": "markdown",
   "id": "a474aca6-578d-47ad-942a-57a7e19fb4ee",
   "metadata": {},
   "source": [
    "### c. Assuming the dataset follows a normal distribution, what is the z-scorecorresponding to a height of 185 cm?\n",
    "\n"
   ]
  },
  {
   "cell_type": "markdown",
   "id": "ca7cc881-5d33-4995-a48a-34f1aae77def",
   "metadata": {},
   "source": [
    "### Answer\n",
    "x = 185\n",
    "μ = 170\n",
    "\n",
    "z = (x - μ) / σ\n",
    "\n",
    "z = (185 - 170) / 10 = 1.5\n",
    "\n",
    "#### Therefore, the z-score corresponding to a height of 185 cm is 1.5."
   ]
  },
  {
   "cell_type": "markdown",
   "id": "a4b528c3-e8d2-43c7-b1e1-1315f45193e7",
   "metadata": {},
   "source": [
    "### d. We know that 5% of the dataset has heights below a certain value. What is the approximate height corresponding to this threshold?\n",
    "\n"
   ]
  },
  {
   "cell_type": "markdown",
   "id": "5d59ff19-10d7-402b-b632-7223320954ec",
   "metadata": {},
   "source": [
    "### Answer\n",
    "\n",
    "We can find the z-score that corresponds to a cumulative probability of 0.05.\n",
    "\n",
    "The z-score that corresponds to a cumulative probability of 0.05 is approximately -1.645.\n",
    "\n",
    "x = μ + (z * σ)\n",
    "\n",
    "x = 170 + (-1.645 * 10) = 170 - 16.45 = 153.55\n",
    "\n",
    "#### Therefore, the approximate height corresponding to the threshold where 5% of the dataset has heights below it is 153.55 cm."
   ]
  },
  {
   "cell_type": "markdown",
   "id": "7bd39d8c-d367-4720-a22a-d34607661a67",
   "metadata": {},
   "source": [
    "### e. Calculate the coefficient of variation (CV) for the dataset.\n",
    "\n"
   ]
  },
  {
   "cell_type": "markdown",
   "id": "680191f5-762e-4c47-8bf4-108d786c97f2",
   "metadata": {},
   "source": [
    "### Answer\n",
    "\n",
    "CV = (σ / μ) * 100%\n",
    "\n",
    "(σ)=10 cm \n",
    "Mean (μ) = 170 cm\n",
    "coefficient of variation (CV) = ?\n",
    "\n",
    "CV = (10 / 170) * 100% = 5.88%\n",
    "\n",
    "#### The coefficient of variation for the dataset is approximately 5.88%."
   ]
  },
  {
   "cell_type": "markdown",
   "id": "01b53dd9-4121-4357-a50b-00bde623cba2",
   "metadata": {},
   "source": [
    "### f. Calculate the skewness of the dataset and interpret the result."
   ]
  },
  {
   "cell_type": "markdown",
   "id": "65a18803-6907-420a-985c-e1f7e3659903",
   "metadata": {},
   "source": [
    "### Answer\n",
    "\n",
    "Dataset has an approximate skewness of zero, it implies that the heights are evenly distributed around the mean without any significant skew to the left or right. The distribution is roughly symmetrical."
   ]
  },
  {
   "cell_type": "code",
   "execution_count": null,
   "id": "64a754f7-05c9-4dd7-9d5f-13e08de4e67b",
   "metadata": {},
   "outputs": [],
   "source": []
  }
 ],
 "metadata": {
  "kernelspec": {
   "display_name": "Python 3 (ipykernel)",
   "language": "python",
   "name": "python3"
  },
  "language_info": {
   "codemirror_mode": {
    "name": "ipython",
    "version": 3
   },
   "file_extension": ".py",
   "mimetype": "text/x-python",
   "name": "python",
   "nbconvert_exporter": "python",
   "pygments_lexer": "ipython3",
   "version": "3.10.8"
  }
 },
 "nbformat": 4,
 "nbformat_minor": 5
}
